{
 "cells": [
  {
   "cell_type": "code",
   "execution_count": 32,
   "metadata": {},
   "outputs": [],
   "source": [
    "import pandas as pd\n",
    "import numpy as np\n",
    "import matplotlib.pyplot as plt\n",
    "import seaborn as sns"
   ]
  },
  {
   "cell_type": "code",
   "execution_count": 4,
   "metadata": {},
   "outputs": [],
   "source": [
    "df = pd.read_csv (r'..\\datathicc.csv')"
   ]
  },
  {
   "cell_type": "code",
   "execution_count": 16,
   "metadata": {},
   "outputs": [
    {
     "name": "stdout",
     "output_type": "stream",
     "text": [
      "<class 'pandas.core.frame.DataFrame'>\n",
      "RangeIndex: 40000000 entries, 0 to 39999999\n",
      "Data columns (total 11 columns):\n",
      " #   Column                    Dtype  \n",
      "---  ------                    -----  \n",
      " 0   game                      int64  \n",
      " 1   player                    object \n",
      " 2   hand                      object \n",
      " 3   individual books counted  int64  \n",
      " 4   team books counted        int64  \n",
      " 5   total books counted       int64  \n",
      " 6   value                     int64  \n",
      " 7   nil chance                int64  \n",
      " 8   average face value        float64\n",
      " 9   misdeal                   bool   \n",
      " 10  nil                       bool   \n",
      "dtypes: bool(2), float64(1), int64(6), object(2)\n",
      "memory usage: 2.8+ GB\n"
     ]
    }
   ],
   "source": [
    "df.info()"
   ]
  },
  {
   "cell_type": "code",
   "execution_count": 21,
   "metadata": {},
   "outputs": [
    {
     "data": {
      "text/html": [
       "<div>\n",
       "<style scoped>\n",
       "    .dataframe tbody tr th:only-of-type {\n",
       "        vertical-align: middle;\n",
       "    }\n",
       "\n",
       "    .dataframe tbody tr th {\n",
       "        vertical-align: top;\n",
       "    }\n",
       "\n",
       "    .dataframe thead th {\n",
       "        text-align: right;\n",
       "    }\n",
       "</style>\n",
       "<table border=\"1\" class=\"dataframe\">\n",
       "  <thead>\n",
       "    <tr style=\"text-align: right;\">\n",
       "      <th></th>\n",
       "      <th>game</th>\n",
       "      <th>player</th>\n",
       "      <th>hand</th>\n",
       "      <th>individual books counted</th>\n",
       "      <th>team books counted</th>\n",
       "      <th>total books counted</th>\n",
       "      <th>value</th>\n",
       "      <th>nil chance</th>\n",
       "      <th>average face value</th>\n",
       "      <th>misdeal</th>\n",
       "      <th>nil</th>\n",
       "    </tr>\n",
       "  </thead>\n",
       "  <tbody>\n",
       "    <tr>\n",
       "      <th>0</th>\n",
       "      <td>0</td>\n",
       "      <td>north</td>\n",
       "      <td>LS AS TS 4S AH 8H 5H KC 8C TD 9D 8D 5D</td>\n",
       "      <td>5</td>\n",
       "      <td>7</td>\n",
       "      <td>13</td>\n",
       "      <td>16</td>\n",
       "      <td>0</td>\n",
       "      <td>9.54</td>\n",
       "      <td>False</td>\n",
       "      <td>False</td>\n",
       "    </tr>\n",
       "    <tr>\n",
       "      <th>1</th>\n",
       "      <td>0</td>\n",
       "      <td>east</td>\n",
       "      <td>BS 8S 6S 3S KH QH JH TH 7H TC 7C 6C JD</td>\n",
       "      <td>2</td>\n",
       "      <td>6</td>\n",
       "      <td>13</td>\n",
       "      <td>9</td>\n",
       "      <td>0</td>\n",
       "      <td>9.31</td>\n",
       "      <td>False</td>\n",
       "      <td>False</td>\n",
       "    </tr>\n",
       "    <tr>\n",
       "      <th>2</th>\n",
       "      <td>0</td>\n",
       "      <td>south</td>\n",
       "      <td>DS KS 4H 3H 9C 5C 4C 3C 2C QD 7D 6D 3D</td>\n",
       "      <td>2</td>\n",
       "      <td>7</td>\n",
       "      <td>13</td>\n",
       "      <td>3</td>\n",
       "      <td>1</td>\n",
       "      <td>6.62</td>\n",
       "      <td>False</td>\n",
       "      <td>True</td>\n",
       "    </tr>\n",
       "    <tr>\n",
       "      <th>3</th>\n",
       "      <td>0</td>\n",
       "      <td>west</td>\n",
       "      <td>QS JS 9S 7S 5S 9H 6H AC QC JC AD KD 4D</td>\n",
       "      <td>4</td>\n",
       "      <td>6</td>\n",
       "      <td>13</td>\n",
       "      <td>15</td>\n",
       "      <td>0</td>\n",
       "      <td>9.77</td>\n",
       "      <td>False</td>\n",
       "      <td>False</td>\n",
       "    </tr>\n",
       "    <tr>\n",
       "      <th>4</th>\n",
       "      <td>1</td>\n",
       "      <td>north</td>\n",
       "      <td>AS JS 9S 6S 5S JH 6H 6C KD QD 8D 6D 5D</td>\n",
       "      <td>2</td>\n",
       "      <td>4</td>\n",
       "      <td>11</td>\n",
       "      <td>7</td>\n",
       "      <td>1</td>\n",
       "      <td>8.62</td>\n",
       "      <td>False</td>\n",
       "      <td>True</td>\n",
       "    </tr>\n",
       "  </tbody>\n",
       "</table>\n",
       "</div>"
      ],
      "text/plain": [
       "   game player                                    hand  \\\n",
       "0     0  north  LS AS TS 4S AH 8H 5H KC 8C TD 9D 8D 5D   \n",
       "1     0   east  BS 8S 6S 3S KH QH JH TH 7H TC 7C 6C JD   \n",
       "2     0  south  DS KS 4H 3H 9C 5C 4C 3C 2C QD 7D 6D 3D   \n",
       "3     0   west  QS JS 9S 7S 5S 9H 6H AC QC JC AD KD 4D   \n",
       "4     1  north  AS JS 9S 6S 5S JH 6H 6C KD QD 8D 6D 5D   \n",
       "\n",
       "   individual books counted  team books counted  total books counted  value  \\\n",
       "0                         5                   7                   13     16   \n",
       "1                         2                   6                   13      9   \n",
       "2                         2                   7                   13      3   \n",
       "3                         4                   6                   13     15   \n",
       "4                         2                   4                   11      7   \n",
       "\n",
       "   nil chance  average face value  misdeal    nil  \n",
       "0           0                9.54    False  False  \n",
       "1           0                9.31    False  False  \n",
       "2           1                6.62    False   True  \n",
       "3           0                9.77    False  False  \n",
       "4           1                8.62    False   True  "
      ]
     },
     "execution_count": 21,
     "metadata": {},
     "output_type": "execute_result"
    }
   ],
   "source": [
    "df.head()"
   ]
  },
  {
   "cell_type": "code",
   "execution_count": 25,
   "metadata": {},
   "outputs": [
    {
     "data": {
      "image/png": "[encoded data removed]",
      "text/plain": [
       "<Figure size 432x432 with 1 Axes>"
      ]
     },
     "metadata": {},
     "output_type": "display_data"
    }
   ],
   "source": [
    "def pdf(x):\n",
    "    mean = np.mean(x)\n",
    "    std = np.std(x)\n",
    "    y_out = 1/(std * np.sqrt(2 * np.pi)) * np.exp( - (x - mean)**2 / (2 * std**2))\n",
    "    return y_out\n",
    "    \n",
    "# To generate an array of x-values\n",
    "#x = df['individual books counted'].head(10000)\n",
    "x = np.arange(-2, 2, 0.1)\n",
    "\n",
    "# To generate an array of\n",
    "# y-values using corresponding x-values\n",
    "y = pdf(x)\n",
    "  \n",
    "# Plotting the bell-shaped curve\n",
    "plt.style.use('seaborn')\n",
    "plt.figure(figsize = (6, 6))\n",
    "plt.plot(x, y, color = 'black',\n",
    "         linestyle = 'dashed')\n",
    "  \n",
    "plt.scatter( x, y, marker = 'o', s = 25, color = 'red')\n",
    "plt.show()"
   ]
  },
  {
   "cell_type": "code",
   "execution_count": 30,
   "metadata": {},
   "outputs": [
    {
     "data": {
      "text/plain": [
       "<AxesSubplot:>"
      ]
     },
     "execution_count": 30,
     "metadata": {},
     "output_type": "execute_result"
    },
    {
     "data": {
      "image/png": "[encoded data removed]",
      "text/plain": [
       "<Figure size 576x396 with 1 Axes>"
      ]
     },
     "metadata": {},
     "output_type": "display_data"
    }
   ],
   "source": [
    "sample = 100000\n",
    "data = np.array(df['individual books counted'].head(sample))\n",
    "\n",
    "freq = pd.DataFrame(data)[0].value_counts()\n",
    "sort_freq = freq.sort_index()\n",
    "sort_freq.plot(kind='bar', color='blue')\n",
    "relative_freq = sort_freq / sample\n",
    "relative_freq.plot(kind='bar', color='blue')"
   ]
  },
  {
   "cell_type": "code",
   "execution_count": 33,
   "metadata": {},
   "outputs": [
    {
     "name": "stderr",
     "output_type": "stream",
     "text": [
      "C:\\Users\\home\\AppData\\Local\\Packages\\PythonSoftwareFoundation.Python.3.7_qbz5n2kfra8p0\\LocalCache\\local-packages\\Python37\\site-packages\\seaborn\\distributions.py:2619: FutureWarning: `distplot` is a deprecated function and will be removed in a future version. Please adapt your code to use either `displot` (a figure-level function with similar flexibility) or `histplot` (an axes-level function for histograms).\n",
      "  warnings.warn(msg, FutureWarning)\n"
     ]
    },
    {
     "data": {
      "text/plain": [
       "<AxesSubplot:xlabel='0', ylabel='Density'>"
      ]
     },
     "execution_count": 33,
     "metadata": {},
     "output_type": "execute_result"
    },
    {
     "data": {
      "image/png": "[encoded data removed]",
      "text/plain": [
       "<Figure size 576x396 with 1 Axes>"
      ]
     },
     "metadata": {},
     "output_type": "display_data"
    }
   ],
   "source": [
    "sample = 100000\n",
    "data = np.array(df['value'].head(sample))\n",
    "\n",
    "freq = pd.DataFrame(data)[0].value_counts()\n",
    "sort_freq = freq.sort_index()\n",
    "sort_freq.plot(kind='bar', color='blue')\n",
    "relative_freq = sort_freq / sample\n",
    "relative_freq.plot(kind='bar', color='blue')"
   ]
  }
 ],
 "metadata": {
  "kernelspec": {
   "display_name": "Python 3.7.9 64-bit (windows store)",
   "language": "python",
   "name": "python3"
  },
  "language_info": {
   "codemirror_mode": {
    "name": "ipython",
    "version": 3
   },
   "file_extension": ".py",
   "mimetype": "text/x-python",
   "name": "python",
   "nbconvert_exporter": "python",
   "pygments_lexer": "ipython3",
   "version": "3.7.9"
  },
  "orig_nbformat": 4,
  "vscode": {
   "interpreter": {
    "hash": "27df387a081b5dde6bd11cb29d443e0196eee1e35ebbbfa50aa7e1fea30057bf"
   }
  }
 },
 "nbformat": 4,
 "nbformat_minor": 2
}
